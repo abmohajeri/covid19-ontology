{
 "cells": [
  {
   "cell_type": "code",
   "execution_count": 35,
   "metadata": {},
   "outputs": [],
   "source": [
    "import pandas as pd"
   ]
  },
  {
   "cell_type": "code",
   "execution_count": 74,
   "metadata": {},
   "outputs": [],
   "source": [
    "df_countries = pd.read_excel('countries.xlsx')\n",
    "df = pd.read_excel('OxCGRT_Download_latest_data.xlsx', usecols = \"A,C,F,I\")\n",
    "df['Date'] = pd.to_datetime(df.Date, format='%Y%m%d')\n",
    "df = df.sort_values(['Country', 'Date']).drop_duplicates('Country', keep='last')\n",
    "df_row = pd.merge(df_countries, df, on='Country')\n",
    "df_row.to_excel('restrictions.xlsx', index=False)"
   ]
  }
 ],
 "metadata": {
  "kernelspec": {
   "display_name": "Python 3",
   "language": "python",
   "name": "python3"
  },
  "language_info": {
   "codemirror_mode": {
    "name": "ipython",
    "version": 3
   },
   "file_extension": ".py",
   "mimetype": "text/x-python",
   "name": "python",
   "nbconvert_exporter": "python",
   "pygments_lexer": "ipython3",
   "version": "3.8.5"
  }
 },
 "nbformat": 4,
 "nbformat_minor": 4
}
