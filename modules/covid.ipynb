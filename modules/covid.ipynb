{
 "cells": [
  {
   "cell_type": "code",
   "metadata": {
    "tags": [],
    "cell_id": "00000-54b618ea-f2b2-44f9-acb8-4695f7d660cc",
    "deepnote_to_be_reexecuted": false,
    "source_hash": "92c09b2",
    "execution_start": 1626535028481,
    "execution_millis": 2554,
    "deepnote_cell_type": "code"
   },
   "source": "!pip3 install openpyxl\nimport pandas as pd\n\ndf = pd.read_excel('Covid.xlsx')\nrecords = df.to_records(index=False)",
   "outputs": [
    {
     "name": "stdout",
     "text": "Requirement already satisfied: openpyxl in /root/venv/lib/python3.7/site-packages (3.0.7)\nRequirement already satisfied: et-xmlfile in /root/venv/lib/python3.7/site-packages (from openpyxl) (1.1.0)\n\u001b[33mWARNING: You are using pip version 21.1.2; however, version 21.1.3 is available.\nYou should consider upgrading via the '/root/venv/bin/python -m pip install --upgrade pip' command.\u001b[0m\n",
     "output_type": "stream"
    }
   ],
   "execution_count": null
  },
  {
   "cell_type": "code",
   "metadata": {
    "tags": [],
    "cell_id": "00001-c078ca96-dc8c-4e05-9572-de5fa74d199f",
    "deepnote_to_be_reexecuted": false,
    "source_hash": "d877342b",
    "execution_start": 1626536582691,
    "execution_millis": 940398,
    "deepnote_cell_type": "code"
   },
   "source": "import requests\nimport urllib.parse\n\nnew_records = []\nfor record in records:\n    country = record[0]\n    \n    parameters = {\n        'query': country,\n        'typeName': 'Country',\n        'format': 'JSON'\n    }\n    query = f\"https://lookup.dbpedia.org/api/search?\" + urllib.parse.urlencode(parameters)\n    response = requests.get(query).json()\n\n    try:\n        resource = response['docs'][0]['resource'][0]\n        print(resource)\n    except:\n        resource = ''\n        pass\n\n    new_records.append((*record, resource))",
   "outputs": [
    {
     "name": "stdout",
     "text": "http://dbpedia.org/resource/United_States\nhttp://dbpedia.org/resource/India\nhttp://dbpedia.org/resource/Brazil\nhttp://dbpedia.org/resource/Russia\nhttp://dbpedia.org/resource/France\nhttp://dbpedia.org/resource/Turkey\nhttp://dbpedia.org/resource/United_Kingdom\nhttp://dbpedia.org/resource/Argentina\nhttp://dbpedia.org/resource/Colombia\nhttp://dbpedia.org/resource/Italy\nhttp://dbpedia.org/resource/Spain\nhttp://dbpedia.org/resource/Germany\nhttp://dbpedia.org/resource/Iran\nhttp://dbpedia.org/resource/Poland\nhttp://dbpedia.org/resource/Indonesia\nhttp://dbpedia.org/resource/Mexico\nhttp://dbpedia.org/resource/South_Africa\nhttp://dbpedia.org/resource/Ukraine\nhttp://dbpedia.org/resource/Peru\nhttp://dbpedia.org/resource/Netherlands\nhttp://dbpedia.org/resource/Czech_Republic\nhttp://dbpedia.org/resource/Chile\nhttp://dbpedia.org/resource/Philippines\nhttp://dbpedia.org/resource/Iraq\nhttp://dbpedia.org/resource/Canada\nhttp://dbpedia.org/resource/Belgium\nhttp://dbpedia.org/resource/Sweden\nhttp://dbpedia.org/resource/Bangladesh\nhttp://dbpedia.org/resource/Romania\nhttp://dbpedia.org/resource/Pakistan\nhttp://dbpedia.org/resource/Portugal\nhttp://dbpedia.org/resource/Malaysia\nhttp://dbpedia.org/resource/Israel\nhttp://dbpedia.org/resource/Japan\nhttp://dbpedia.org/resource/Hungary\nhttp://dbpedia.org/resource/Jordan\nhttp://dbpedia.org/resource/Serbia\nhttp://dbpedia.org/resource/Switzerland\nhttp://dbpedia.org/resource/Nepal\nhttp://dbpedia.org/resource/United_Arab_Emirates\nhttp://dbpedia.org/resource/Austria\nhttp://dbpedia.org/resource/Morocco\nhttp://dbpedia.org/resource/Lebanon\nhttp://dbpedia.org/resource/Tunisia\nhttp://dbpedia.org/resource/Saudi_Arabia\nhttp://dbpedia.org/resource/Kazakhstan\nhttp://dbpedia.org/resource/Ecuador\nhttp://dbpedia.org/resource/Bolivia\nhttp://dbpedia.org/resource/Greece\nhttp://dbpedia.org/resource/Paraguay\nhttp://dbpedia.org/resource/Belarus\nhttp://dbpedia.org/resource/Bulgaria\nhttp://dbpedia.org/resource/Panama\nhttp://dbpedia.org/resource/Slovakia\nhttp://dbpedia.org/resource/Costa_Rica\nhttp://dbpedia.org/resource/Georgia_(country)\nhttp://dbpedia.org/resource/Kuwait\nhttp://dbpedia.org/resource/Thailand\nhttp://dbpedia.org/resource/Uruguay\nhttp://dbpedia.org/resource/Croatia\nhttp://dbpedia.org/resource/Azerbaijan\nhttp://dbpedia.org/resource/Dominican_Republic\nhttp://dbpedia.org/resource/Guatemala\nhttp://dbpedia.org/resource/Mandatory_Palestine\nhttp://dbpedia.org/resource/Denmark\nhttp://dbpedia.org/resource/Venezuela\nhttp://dbpedia.org/resource/Oman\nhttp://dbpedia.org/resource/Egypt\nhttp://dbpedia.org/resource/Sri_Lanka\nhttp://dbpedia.org/resource/Republic_of_Ireland\nhttp://dbpedia.org/resource/Lithuania\nhttp://dbpedia.org/resource/Honduras\nhttp://dbpedia.org/resource/Ethiopia\nhttp://dbpedia.org/resource/Cuba\nhttp://dbpedia.org/resource/Bahrain\nhttp://dbpedia.org/resource/Slovenia\nhttp://dbpedia.org/resource/Moldova\nhttp://dbpedia.org/resource/Armenia\nhttp://dbpedia.org/resource/Qatar\nhttp://dbpedia.org/resource/Myanmar\nhttp://dbpedia.org/resource/Libya\nhttp://dbpedia.org/resource/Bosnia_and_Herzegovina\nhttp://dbpedia.org/resource/Kenya\nhttp://dbpedia.org/resource/Zambia\nhttp://dbpedia.org/resource/South_Korea\nhttp://dbpedia.org/resource/Nigeria\nhttp://dbpedia.org/resource/North_Macedonia\nhttp://dbpedia.org/resource/Algeria\nhttp://dbpedia.org/resource/Kyrgyzstan\nhttp://dbpedia.org/resource/Mongolia\nhttp://dbpedia.org/resource/Afghanistan\nhttp://dbpedia.org/resource/Latvia\nhttp://dbpedia.org/resource/Norway\nhttp://dbpedia.org/resource/Albania\nhttp://dbpedia.org/resource/Estonia\nhttp://dbpedia.org/resource/Uzbekistan\nhttp://dbpedia.org/resource/Namibia\nhttp://dbpedia.org/resource/Montenegro\nhttp://dbpedia.org/resource/Finland\nhttp://dbpedia.org/resource/Ghana\nhttp://dbpedia.org/resource/Mozambique\nhttp://dbpedia.org/resource/China\nhttp://dbpedia.org/resource/Uganda\nhttp://dbpedia.org/resource/Cyprus\nhttp://dbpedia.org/resource/Botswana\nhttp://dbpedia.org/resource/El_Salvador\nhttp://dbpedia.org/resource/Cameroon\nhttp://dbpedia.org/resource/Zimbabwe\nhttp://dbpedia.org/resource/Maldives\nhttp://dbpedia.org/resource/Luxembourg\nhttp://dbpedia.org/resource/Cambodia\nhttp://dbpedia.org/resource/Singapore\nhttp://dbpedia.org/resource/Rwanda\nhttp://dbpedia.org/resource/Jamaica\nhttp://dbpedia.org/resource/Senegal\nhttp://dbpedia.org/resource/Ivory_Coast\nhttp://dbpedia.org/resource/Democratic_Republic_of_the_Congo\nhttp://dbpedia.org/resource/Madagascar\nhttp://dbpedia.org/resource/Vietnam\nhttp://dbpedia.org/resource/Malawi\nhttp://dbpedia.org/resource/Angola\nhttp://dbpedia.org/resource/Sudan\nhttp://dbpedia.org/resource/Trinidad_and_Tobago\nhttp://dbpedia.org/resource/United_States\nhttp://dbpedia.org/resource/Cape_Verde\nhttp://dbpedia.org/resource/Malta\nhttp://dbpedia.org/resource/Australia\nhttp://dbpedia.org/resource/France\nhttp://dbpedia.org/resource/Syria\nhttp://dbpedia.org/resource/Gabon\nhttp://dbpedia.org/resource/Papua_New_Guinea\nhttp://dbpedia.org/resource/Suriname\nhttp://dbpedia.org/resource/Mauritania\nhttp://dbpedia.org/resource/Guyana\nhttp://dbpedia.org/resource/Eswatini\nhttp://dbpedia.org/resource/United_States\nhttp://dbpedia.org/resource/Haiti\nhttp://dbpedia.org/resource/United_States\nhttp://dbpedia.org/resource/United_States\nhttp://dbpedia.org/resource/Papua_New_Guinea\nhttp://dbpedia.org/resource/Seychelles\nhttp://dbpedia.org/resource/Taiwan\nhttp://dbpedia.org/resource/Fiji\nhttp://dbpedia.org/resource/Somalia\nhttp://dbpedia.org/resource/Mali\nhttp://dbpedia.org/resource/Togo\nhttp://dbpedia.org/resource/Andorra\nhttp://dbpedia.org/resource/Tajikistan\nhttp://dbpedia.org/resource/Belize\nhttp://dbpedia.org/resource/Burkina_Faso\nhttp://dbpedia.org/resource/Grenada\nhttp://dbpedia.org/resource/The_Bahamas\nhttp://dbpedia.org/resource/Democratic_Republic_of_the_Congo\nhttp://dbpedia.org/resource/Curaçao_and_Dependencies\nhttp://dbpedia.org/resource/Lesotho\nhttp://dbpedia.org/resource/British_Hong_Kong\nhttp://dbpedia.org/resource/Djibouti\nhttp://dbpedia.org/resource/Saudi_Arabia\nhttp://dbpedia.org/resource/South_Sudan\nhttp://dbpedia.org/resource/East_Timor\nhttp://dbpedia.org/resource/Equatorial_Guinea\nhttp://dbpedia.org/resource/Nicaragua\nhttp://dbpedia.org/resource/Benin\nhttp://dbpedia.org/resource/Central_African_Republic\nhttp://dbpedia.org/resource/Yemen\nhttp://dbpedia.org/resource/Iceland\nhttp://dbpedia.org/resource/The_Gambia\nhttp://dbpedia.org/resource/Eritrea\nhttp://dbpedia.org/resource/United_Kingdom\nhttp://dbpedia.org/resource/Sierra_Leone\nhttp://dbpedia.org/resource/Burundi\nhttp://dbpedia.org/resource/Niger\nhttp://dbpedia.org/resource/Saint_Lucia\nhttp://dbpedia.org/resource/Liberia\nhttp://dbpedia.org/resource/San_Marino\nhttp://dbpedia.org/resource/Chad\nhttp://dbpedia.org/resource/Spain\nhttp://dbpedia.org/resource/Barbados\nhttp://dbpedia.org/resource/Comoros\nhttp://dbpedia.org/resource/Guinea-Bissau\nhttp://dbpedia.org/resource/Laos\nhttp://dbpedia.org/resource/Liechtenstein\nhttp://dbpedia.org/resource/New_Zealand\nhttp://dbpedia.org/resource/Monaco\nhttp://dbpedia.org/resource/United_States\nhttp://dbpedia.org/resource/United_States\nhttp://dbpedia.org/resource/Haiti\nhttp://dbpedia.org/resource/San_Marino\nhttp://dbpedia.org/resource/São_Tomé_and_Príncipe\nhttp://dbpedia.org/resource/Bhutan\nhttp://dbpedia.org/resource/Saint_Vincent_and_the_Grenadines\nhttp://dbpedia.org/resource/United_States\nhttp://dbpedia.org/resource/Mauritius\nhttp://dbpedia.org/resource/Kingdom_of_the_Netherlands\nhttp://dbpedia.org/resource/United_States\nhttp://dbpedia.org/resource/Antigua_and_Barbuda\nhttp://dbpedia.org/resource/United_States\nhttp://dbpedia.org/resource/British_occupation_of_the_Faroe_Islands\nhttp://dbpedia.org/resource/United_States\nhttp://dbpedia.org/resource/Cuba\nhttp://dbpedia.org/resource/Saint_Kitts_and_Nevis\nhttp://dbpedia.org/resource/Tanzania\nhttp://dbpedia.org/resource/Wallis_(island)\nhttp://dbpedia.org/resource/Brunei\nhttp://dbpedia.org/resource/Dominica\nhttp://dbpedia.org/resource/Grenada\nhttp://dbpedia.org/resource/New_Zealand\nhttp://dbpedia.org/resource/Saint_Christopher-Nevis-Anguilla\nhttp://dbpedia.org/resource/Denmark\nhttp://dbpedia.org/resource/Occupation_of_the_Falkland_Islands\nhttp://dbpedia.org/resource/Portuguese_Macau\nhttp://dbpedia.org/resource/Vatican_City\nhttp://dbpedia.org/resource/Geography_of_Saint_Pierre_and_Miquelon\nhttp://dbpedia.org/resource/United_States\nhttp://dbpedia.org/resource/Solomon_Islands\nhttp://dbpedia.org/resource/Sahrawi_Arab_Democratic_Republic\nhttp://dbpedia.org/resource/United_States\nhttp://dbpedia.org/resource/Vanuatu\nhttp://dbpedia.org/resource/Marshall_Islands\nhttp://dbpedia.org/resource/Samoa\nhttp://dbpedia.org/resource/United_States\nhttp://dbpedia.org/resource/Federated_States_of_Micronesia\n",
     "output_type": "stream"
    }
   ],
   "execution_count": null
  },
  {
   "cell_type": "code",
   "metadata": {
    "tags": [],
    "cell_id": "00002-551eb06b-6eb3-42df-9bbe-b80603f625cf",
    "deepnote_to_be_reexecuted": false,
    "source_hash": "653a69e4",
    "execution_start": 1626537570876,
    "execution_millis": 60,
    "deepnote_cell_type": "code"
   },
   "source": "df = pd.DataFrame(new_records)\ndf.to_excel('covid_resource.xlsx')",
   "outputs": [],
   "execution_count": null
  },
  {
   "cell_type": "markdown",
   "source": "<a style='text-decoration:none;line-height:16px;display:flex;color:#5B5B62;padding:10px;justify-content:end;' href='https://deepnote.com?utm_source=created-in-deepnote-cell&projectId=587bc056-53f8-4a01-90b9-f12dffbb64c9' target=\"_blank\">\n<img alt='Created in deepnote.com' style='display:inline;max-height:16px;margin:0px;margin-right:7.5px;' src='data:image/svg+xml;base64,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' > </img>\nCreated in <span style='font-weight:600;margin-left:4px;'>Deepnote</span></a>",
   "metadata": {
    "tags": [],
    "created_in_deepnote_cell": true,
    "deepnote_cell_type": "markdown"
   }
  }
 ],
 "nbformat": 4,
 "nbformat_minor": 2,
 "metadata": {
  "orig_nbformat": 2,
  "deepnote": {
   "is_reactive": false
  },
  "deepnote_notebook_id": "2fbcbfe7-ec88-42cd-bc07-bb66f7bde64d",
  "deepnote_execution_queue": []
 }
}